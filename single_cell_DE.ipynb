{
 "cells": [
  {
   "cell_type": "markdown",
   "id": "4abd08cc-8c4b-44ce-8f72-76c55c64a60b",
   "metadata": {},
   "source": [
    "# Notebook for DE Analysis from a single-cell map"
   ]
  },
  {
   "cell_type": "markdown",
   "id": "d87b9d13-3122-4c6a-8efb-a74d7b619569",
   "metadata": {},
   "source": [
    "## Load Packages"
   ]
  },
  {
   "cell_type": "code",
   "execution_count": 1,
   "id": "3ebdc2f3-ab7a-4a3e-bd58-7cb54050e10f",
   "metadata": {},
   "outputs": [
    {
     "name": "stderr",
     "output_type": "stream",
     "text": [
      "Loading packages...\n",
      "\n"
     ]
    }
   ],
   "source": [
    "message(\"Loading packages...\")\n",
    "\n",
    "suppressMessages(library(Seurat))\n",
    "suppressPackageStartupMessages(library(DESeq2))\n",
    "suppressMessages(library(dplyr))\n",
    "suppressPackageStartupMessages(library(stringr))\n",
    "suppressMessages(library(data.table))\n",
    "suppressMessages(library(Matrix))"
   ]
  },
  {
   "cell_type": "markdown",
   "id": "e3185760-c2c4-4059-9396-7ec9dfd82c16",
   "metadata": {},
   "source": [
    "## Define Inputs"
   ]
  },
  {
   "cell_type": "code",
   "execution_count": 2,
   "id": "ff01e731-8145-45ea-a7ce-e8c9928cb419",
   "metadata": {},
   "outputs": [
    {
     "name": "stderr",
     "output_type": "stream",
     "text": [
      "Loading data...\n",
      "\n"
     ]
    }
   ],
   "source": [
    "# Inputs: single-cell map and/or metadata\n",
    "seurat_obj_path <- '/nfs/lab/sara/projects/PanKbase/singlecell/input/2023_01_27_hpap_res0p3.rds'\n",
    "metadata_path <- '/nfs/lab/sara/projects/PanKbase/singlecell/input/Donor_Summary_127.csv'\n",
    "\n",
    "# Load the object and/or metadata\n",
    "message(\"Loading data...\")\n",
    "data <- readRDS(seurat_obj_path)\n",
    "meta <- read.csv(metadata_path)"
   ]
  },
  {
   "cell_type": "markdown",
   "id": "c6fdd6fd-c42e-4a14-aa86-62f39fb0e46f",
   "metadata": {},
   "source": [
    "#### Format Inputs - Optional"
   ]
  },
  {
   "cell_type": "code",
   "execution_count": 3,
   "id": "c06981a9-377f-47a8-8bc7-d6886ff130c6",
   "metadata": {},
   "outputs": [],
   "source": [
    "# Ensure that the metadata has only the donors present in the seurat object - no more no less. Modify or comment out this chunk according to your needs\n",
    "meta <- read.csv(metadata_path)\n",
    "meta <- meta[meta$donor_ID %in% unique(data@meta.data$library), ]\n",
    "\n",
    "dib_stat  <- data@meta.data[,c('library', 'Diabetes_Status_w_AAB', 'chemistry', 'tissue_source')]\n",
    "dib_stat <- unique(dib_stat)\n",
    "rownames(dib_stat) <- NULL\n",
    "\n",
    "meta <- merge(meta, dib_stat, by.x = 'donor_ID', by.y='library')\n",
    "\n",
    "meta <- rename(meta, diabetes_status = Diabetes_Status_w_AAB)\n",
    "meta <- rename(meta, sex = gender)\n",
    "\n",
    "rownames(meta) <- meta$donor_ID"
   ]
  },
  {
   "cell_type": "code",
   "execution_count": 4,
   "id": "e3bc6a48-dac0-47c9-8df9-d0e9b5bdb1c2",
   "metadata": {},
   "outputs": [],
   "source": [
    "# Set cell identities\n",
    "Idents(data) <- data@meta.data$cell_type\n",
    "\n",
    "# Define the samples based on metadata or the single-cell map\n",
    "samples <- unique(meta$donor_ID)\n",
    "unique_cell_types <- unique(data$cell_type)\n",
    "\n",
    "# Default assay should be 'RNA'\n",
    "DefaultAssay(data) <- 'RNA'\n",
    "gex.counts <- GetAssayData(data, layer = 'counts')\n",
    "\n",
    "# Create the output directory if it doesn't exist\n",
    "output_dir <- '/nfs/lab/sara/projects/PanKbase/singlecell/analytical_library/output'\n",
    "\n",
    "if (!dir.exists(output_dir)) {\n",
    "  dir.create(output_dir, recursive = TRUE)\n",
    "}"
   ]
  },
  {
   "cell_type": "code",
   "execution_count": 5,
   "id": "05d56fef-ba5a-4524-a5d1-7e7488601de4",
   "metadata": {},
   "outputs": [
    {
     "name": "stdout",
     "output_type": "stream",
     "text": [
      "[1] \"Unique donors: 65\"\n",
      "[1] \"Unique cell types: 14\"\n"
     ]
    }
   ],
   "source": [
    "print(paste(\"Unique donors:\", length(samples)))\n",
    "print(paste(\"Unique cell types:\", length(unique_cell_types)))"
   ]
  },
  {
   "cell_type": "markdown",
   "id": "a8802591-f522-4feb-8560-e613d0247368",
   "metadata": {},
   "source": [
    "## Make Pseudobulk Matrices for each cell type"
   ]
  },
  {
   "cell_type": "code",
   "execution_count": 6,
   "id": "bb079bbd-49d5-4b39-9833-4607a2154068",
   "metadata": {},
   "outputs": [],
   "source": [
    "# Output directory for cell counts\n",
    "outdir_cell_counts <- file.path(output_dir, \"cell_counts\")\n",
    "dir.create(outdir_cell_counts, showWarnings = FALSE)\n",
    "\n",
    "# Loop over each unique cell type\n",
    "for (cell_type in unique_cell_types) {\n",
    "  # Get barcodes for the current cell type\n",
    "  bcs <- names(Idents(data)[Idents(data) == cell_type])\n",
    "  \n",
    "  # Subset the gene expression counts matrix for the cell type\n",
    "  counts <- gex.counts[, colnames(gex.counts) %in% bcs]\n",
    "  \n",
    "  # Initialize a matrix to store pseudobulk counts for each sample\n",
    "  pseudobulk_counts <- matrix(0, nrow = nrow(gex.counts), ncol = length(samples))\n",
    "  row.names(pseudobulk_counts) <- row.names(gex.counts)\n",
    "  \n",
    "  # Loop over each sample\n",
    "  for (i in seq_along(samples)) {\n",
    "    sample <- samples[i]\n",
    "    \n",
    "    # Get barcodes for the current sample\n",
    "    sample_bcs <- row.names(data@meta.data[data@meta.data$library == sample,])\n",
    "    \n",
    "    # Subset counts for the current sample's barcodes\n",
    "    counts_cut <- counts[, colnames(counts) %in% sample_bcs]\n",
    "    \n",
    "    # Sum the counts across the barcodes for the current sample\n",
    "    if (is.null(ncol(counts_cut)) || ncol(counts_cut) == 0) {\n",
    "      sum_counts <- rep(0, nrow(counts))\n",
    "    } else {\n",
    "      sum_counts <- rowSums(counts_cut)\n",
    "    }\n",
    "      \n",
    "    # Add the summed counts to the pseudobulk matrix\n",
    "    pseudobulk_counts[, i] <- sum_counts\n",
    "  }\n",
    "  \n",
    "  # Convert the matrix to a dataframe and assign sample names as column names\n",
    "  pseudobulk_df <- as.data.frame(pseudobulk_counts)\n",
    "  colnames(pseudobulk_df) <- samples\n",
    "  \n",
    "  # Save the pseudobulk counts\n",
    "  output_file <- file.path(outdir_cell_counts, paste0(cell_type, \"_sample_gex_total_counts.txt\"))\n",
    "  write.table(pseudobulk_df, output_file, sep = '\\t', quote = FALSE, col.names = TRUE, row.names = TRUE)\n",
    "}"
   ]
  },
  {
   "cell_type": "markdown",
   "id": "4a646ad1-7ef2-4189-9738-3bd704b89c5a",
   "metadata": {},
   "source": [
    "## Define helper functions for DESeq"
   ]
  },
  {
   "cell_type": "code",
   "execution_count": 7,
   "id": "1431977d-b4d9-4c84-afa2-2167dbb4ad0b",
   "metadata": {},
   "outputs": [],
   "source": [
    "# Function to read the paths of the count matrices from the dir\n",
    "readCounts <- function(counts_dir) {\n",
    "  # Get all files matching the pattern\n",
    "  files <- list.files(counts_dir, pattern = \"_sample_gex_total_counts.txt$\", full.names = TRUE)\n",
    "  \n",
    "  # Initialize an empty dict to store the cell type and the respective counts matrices' file path\n",
    "  counts_dict <- list()\n",
    "  \n",
    "  # Loop over each file and extract the cell type from the filename\n",
    "  for (file_path in files) {\n",
    "    cell_type <- gsub(\"_sample_gex_total_counts.txt\", \"\", basename(file_path))\n",
    "    \n",
    "    # Read the count matrix and store it in dict\n",
    "    counts_dict[[cell_type]] <- read.csv(paste0(file_path), header = TRUE, row.names=1, sep='\\t', check.names = FALSE)\n",
    "  }\n",
    "  \n",
    "  return(counts_dict)\n",
    "}"
   ]
  },
  {
   "cell_type": "code",
   "execution_count": 8,
   "id": "c7367c78-6610-4c35-abc9-81ea5c9f5cb1",
   "metadata": {},
   "outputs": [],
   "source": [
    "# Scale covariates function\n",
    "scaleCovariates <- function(coldata_subset, covariates) {\n",
    "  if (!is.null(covariates)) {\n",
    "    coldata_subset[covariates] <- lapply(coldata_subset[covariates], function(x) {\n",
    "      if (is.numeric(x)) {\n",
    "        return(scale(x))  # Scale continuous covariates\n",
    "      }\n",
    "      return(x)  # Return unchanged for categorical covariates\n",
    "    })\n",
    "  }\n",
    "  return(coldata_subset)\n",
    "}"
   ]
  },
  {
   "cell_type": "markdown",
   "id": "55042807-2c42-4be2-81a5-99837652ce3f",
   "metadata": {},
   "source": [
    "## Perform DESeq"
   ]
  },
  {
   "cell_type": "code",
   "execution_count": 9,
   "id": "c855ce15-67a7-421b-9a0f-b6e008e1452e",
   "metadata": {},
   "outputs": [],
   "source": [
    "# Define the function to perform DESeq2 analysis\n",
    "runDESeq2 <- function(counts_matrix, coldata, condition_col, condition_levels, covariates = NULL, outdir_deseq, cell_type) {\n",
    "  # Ensure the condition column exists in the coldata\n",
    "  if (!(condition_col %in% colnames(coldata))) {\n",
    "    stop(paste(\"Condition column\", condition_col, \"not found in coldata.\"))\n",
    "  }\n",
    "\n",
    "  # Subset the coldata for the specified condition levels (e.g., T1D vs ND)\n",
    "  coldata_subset <- coldata[coldata[[condition_col]] %in% condition_levels, ]\n",
    "\n",
    "  # Match the subset of coldata with the counts matrix\n",
    "  counts_subset <- counts_matrix[, rownames(coldata_subset)]\n",
    "  \n",
    "  # Calculate half the sample size for each condition_levels - used as the minimum number of samples to meet gene count thresholds\n",
    "  n_levels <- sapply(condition_levels, function(level) {\n",
    "    sum(coldata_subset[[condition_col]] == level)\n",
    "  })\n",
    "  n_levels_half <- floor(n_levels / 2)\n",
    "  \n",
    "  # Filter genes based on the counts criteria - at least half the samples per condition have greater than 5 counts\n",
    "  genes_to_keep <- rownames(counts_subset)[\n",
    "    rowSums(counts_subset[, coldata_subset[[condition_col]] == condition_levels[1]] >= 5) >= n_levels_half[1] &\n",
    "    rowSums(counts_subset[, coldata_subset[[condition_col]] == condition_levels[2]] >= 5) >= n_levels_half[2]\n",
    "  ]\n",
    "\n",
    "  # Subset counts matrix to keep only the genes that passed the filter\n",
    "  counts_subset <- counts_subset[genes_to_keep, ]\n",
    "\n",
    "  # Re-level the factor so the first condition is the reference level\n",
    "  coldata_subset[[condition_col]] <- factor(coldata_subset[[condition_col]], levels = condition_levels)\n",
    "\n",
    "  # Build the design formula with covariates\n",
    "  if (!is.null(covariates) && all(covariates %in% colnames(coldata_subset))) {\n",
    "    design_formula <- as.formula(paste(\"~\", paste(c(covariates, condition_col), collapse = \" + \")))\n",
    "  } else {\n",
    "    design_formula <- as.formula(paste(\"~\", condition_col))\n",
    "  }\n",
    "    \n",
    "  # Create DESeq2 dataset\n",
    "  dds <- DESeqDataSetFromMatrix(countData = counts_subset, colData = coldata_subset, design = design_formula)\n",
    "\n",
    "  # Comment this out for the default type = \"ratio\" - general purpose with balanced counts\n",
    "  # Estimate size factors using the \"poscounts\" method - handles sparse datasets with many zeros \n",
    "  # Estimate size factors using the \"iterate\" method - handles outliers or widely varying library sizes\n",
    "  #dds <- estimateSizeFactors(dds, type = \"poscounts\")\n",
    "    \n",
    "  # Run DESeq2\n",
    "  dds <- DESeq(dds)\n",
    "\n",
    "  # Extract results for the specified condition comparison\n",
    "  res <- results(dds, contrast = c(condition_col, condition_levels[1], condition_levels[2]))\n",
    "  res <- res[order(res$padj), ]\n",
    "\n",
    "  # Save results\n",
    "  condition_comparison <- paste(condition_levels[1], \"vs\", condition_levels[2], sep = \"_\")\n",
    "  output_filename <- paste0(outdir_deseq, \"/\", cell_type, \"_\", condition_comparison, \"_deseq.tsv\")\n",
    "\n",
    "  write.table(res, output_filename, sep = \"\\t\", quote = FALSE, row.names = TRUE, col.names = TRUE)\n",
    "\n",
    "  message(paste(\"Complete! DESeq analysis for\", condition_levels[1], \"vs\", condition_levels[2], \"in\", cell_type, \"cells.\"))\n",
    "\n",
    "  return(dds)\n",
    "}"
   ]
  },
  {
   "cell_type": "code",
   "execution_count": 10,
   "id": "214392e8-fdda-48ae-b319-805f514731d8",
   "metadata": {},
   "outputs": [],
   "source": [
    "run_DESeq2_for_all_cell_types <- function(cell_types_list = NULL, counts_dir, coldata, condition_col, condition_levels, covariates = NULL, output_dir) {\n",
    "  # Ensure the base output directory exists or create it\n",
    "  outdir_deseq <- file.path(output_dir, \"deseq\")\n",
    "  if (!dir.exists(outdir_deseq)) {\n",
    "    dir.create(outdir_deseq, recursive = TRUE)\n",
    "  }\n",
    "  \n",
    "  # If cell_types_list is not provided, read all count matrices from the directory\n",
    "  if (is.null(cell_types_list)) {\n",
    "    counts_dict <- readCounts(counts_dir)\n",
    "    cell_types_list <- names(counts_dict)  # Use names of the counts_dict as cell types\n",
    "  } else {\n",
    "    counts_dict <- readCounts(counts_dir)[cell_types_list]  # Only read specified cell types\n",
    "  }\n",
    "  \n",
    "  # Loop over each cell type and run DESeq2\n",
    "  for (cell_type in cell_types_list) {\n",
    "    # Retrieve the counts matrix for the current cell type\n",
    "    counts_matrix <- counts_dict[[cell_type]]\n",
    "\n",
    "    # Skip if the counts data for the cell type is missing\n",
    "    if (is.null(counts_matrix)) {\n",
    "      message(paste(\"Skipping DESeq2 for\", cell_type, \"due to missing counts data.\"))\n",
    "      next\n",
    "    }\n",
    "    \n",
    "    # Run DESeq2 for the current cell type and save results\n",
    "    runDESeq2(counts_matrix = counts_matrix, coldata = coldata, condition_col = condition_col, \n",
    "               condition_levels = condition_levels, covariates = covariates, \n",
    "               outdir_deseq = outdir_deseq, cell_type = cell_type)\n",
    "  }\n",
    "  \n",
    "  message(\"DESeq2 analysis completed for specified cell types.\")\n",
    "}"
   ]
  },
  {
   "cell_type": "markdown",
   "id": "606523a6-3dea-4969-b954-1edb18afb811",
   "metadata": {},
   "source": [
    "## Custom DESeq Parameters"
   ]
  },
  {
   "cell_type": "markdown",
   "id": "b9f7d530-f0e7-49b7-aff7-182889672757",
   "metadata": {},
   "source": [
    "#### Required Arguments\n",
    "- **coldata**: metadata file that includes sample information, conditions and covariates for DESeq analysis\n",
    "- **condition_col**: The column name in coldata that represents the experimental condition to test (e.g., \"diabetes_status\")\n",
    "- **condition_levels**: A vector specifying the two condition levels to compare in DESeq (e.g., c(\"T1D\", \"ND\"))\n",
    "- **counts_dir**: The directory where the pseudobulk matrices for each cell type will be saved\n",
    "- **output_dir**: The directory where DESeq output will be saved\n",
    "\n",
    "#### Optional Arguments\n",
    "- **cell_types_list**: (default = NULL) list of specific cell types of interest to run DESeq on. If not provided, all cell types in counts_dir are used.\n",
    "- **covariates**: (default = NULL) A list of additional covariates from coldata to include in the DESeq model (e.g., age, sex)"
   ]
  },
  {
   "cell_type": "code",
   "execution_count": 11,
   "id": "ab812f40-bd31-474a-8250-7649e02669a6",
   "metadata": {},
   "outputs": [
    {
     "name": "stderr",
     "output_type": "stream",
     "text": [
      "Warning message in DESeqDataSet(se, design = design, ignoreRank):\n",
      "“some variables in design formula are characters, converting to factors”\n",
      "  the design formula contains one or more numeric variables with integer values,\n",
      "  specifying a model with increasing fold change for higher values.\n",
      "  did you mean for this to be a factor? if so, first convert\n",
      "  this variable to a factor using the factor() function\n",
      "\n",
      "  the design formula contains one or more numeric variables that have mean or\n",
      "  standard deviation larger than 5 (an arbitrary threshold to trigger this message).\n",
      "  Including numeric variables with large mean can induce collinearity with the intercept.\n",
      "  Users should center and scale numeric variables in the design to improve GLM convergence.\n",
      "\n",
      "estimating size factors\n",
      "\n",
      "estimating dispersions\n",
      "\n",
      "gene-wise dispersion estimates\n",
      "\n",
      "mean-dispersion relationship\n",
      "\n",
      "final dispersion estimates\n",
      "\n",
      "fitting model and testing\n",
      "\n",
      "Complete! DESeq analysis for T1D vs ND in Acinar cells.\n",
      "\n",
      "Warning message in DESeqDataSet(se, design = design, ignoreRank):\n",
      "“some variables in design formula are characters, converting to factors”\n",
      "  the design formula contains one or more numeric variables with integer values,\n",
      "  specifying a model with increasing fold change for higher values.\n",
      "  did you mean for this to be a factor? if so, first convert\n",
      "  this variable to a factor using the factor() function\n",
      "\n",
      "  the design formula contains one or more numeric variables that have mean or\n",
      "  standard deviation larger than 5 (an arbitrary threshold to trigger this message).\n",
      "  Including numeric variables with large mean can induce collinearity with the intercept.\n",
      "  Users should center and scale numeric variables in the design to improve GLM convergence.\n",
      "\n",
      "estimating size factors\n",
      "\n",
      "estimating dispersions\n",
      "\n",
      "gene-wise dispersion estimates\n",
      "\n",
      "mean-dispersion relationship\n",
      "\n",
      "final dispersion estimates\n",
      "\n",
      "fitting model and testing\n",
      "\n",
      "Complete! DESeq analysis for T1D vs ND in Endothelial cells.\n",
      "\n",
      "DESeq2 analysis completed for specified cell types.\n",
      "\n"
     ]
    }
   ],
   "source": [
    "### Required\n",
    "coldata <- meta  # Sample metadata with condition and covariates\n",
    "condition_col <- \"diabetes_status\"\n",
    "condition_levels <- c(\"T1D\", \"ND\")\n",
    "counts_dir <- \"/nfs/lab/sara/projects/PanKbase/singlecell/analytical_library/output/cell_counts\"\n",
    "output_dir <- \"/nfs/lab/sara/projects/PanKbase/singlecell/analytical_library/output\" \n",
    "\n",
    "### Optional\n",
    "cell_types_list <- c(\"Acinar\", \"Endothelial\")\n",
    "covariates <- c(\"age_years\", \"sex\", \"bmi\")\n",
    "\n",
    "# To run DESeq2 for a specific cell type\n",
    "run_DESeq2_for_all_cell_types(cell_types_list = cell_types_list, \n",
    "                              coldata = coldata,\n",
    "                              condition_col = condition_col, \n",
    "                              condition_levels = condition_levels, \n",
    "                              counts_dir = counts_dir, \n",
    "                              output_dir = output_dir,                              \n",
    "                              covariates = covariates)\n",
    "\n",
    "# # To run DESeq2 for all cell types - entire cell_counts dir\n",
    "# run_DESeq2_for_all_cell_types(coldata = coldata,\n",
    "#                               condition_col = condition_col, \n",
    "#                               condition_levels = condition_levels, \n",
    "#                               counts_dir = counts_dir, \n",
    "#                               output_dir = output_dir,                              \n",
    "#                               covariates = covariates))"
   ]
  }
 ],
 "metadata": {
  "kernelspec": {
   "display_name": "R PanKbase sc DESeq",
   "language": "R",
   "name": "r_pankbase_sc_deseq"
  },
  "language_info": {
   "codemirror_mode": "r",
   "file_extension": ".r",
   "mimetype": "text/x-r-source",
   "name": "R",
   "pygments_lexer": "r",
   "version": "4.3.3"
  }
 },
 "nbformat": 4,
 "nbformat_minor": 5
}
